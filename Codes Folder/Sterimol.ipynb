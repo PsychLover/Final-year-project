{
 "cells": [
  {
   "cell_type": "markdown",
   "id": "4e9a377e",
   "metadata": {},
   "source": [
    "## ASSUMPTION\n",
    "This example is written assuming we have a service up and running for us to utilise"
   ]
  },
  {
   "cell_type": "markdown",
   "id": "e2a9e1f9",
   "metadata": {},
   "source": [
    "Copyright IBM Corp. 2022, 2023\n",
    "@author James Strudwick IBM Research"
   ]
  },
  {
   "cell_type": "markdown",
   "id": "85c6ce0a",
   "metadata": {},
   "source": [
    "## Dependencies"
   ]
  },
  {
   "cell_type": "code",
   "execution_count": 1,
   "id": "aa3597f8",
   "metadata": {},
   "outputs": [],
   "source": [
    "#For Sterimol\n",
    "from morfeus import Sterimol, read_xyz"
   ]
  },
  {
   "cell_type": "code",
   "execution_count": 2,
   "id": "4ccbc3f7",
   "metadata": {
    "scrolled": false
   },
   "outputs": [],
   "source": [
    "#For descriptors\n",
    "import pandas as pd\n",
    "import numpy as np\n",
    "from rdkit.Chem import AllChem, Descriptors, MolFromSmiles\n",
    "from mordred import Calculator, descriptors, error"
   ]
  },
  {
   "cell_type": "code",
   "execution_count": 3,
   "id": "9c7a8b23",
   "metadata": {},
   "outputs": [],
   "source": [
    "from rdkit import Chem\n",
    "from rdkit.Chem import AllChem"
   ]
  },
  {
   "cell_type": "markdown",
   "id": "d738a952",
   "metadata": {},
   "source": [
    "## Data recording"
   ]
  },
  {
   "cell_type": "code",
   "execution_count": 4,
   "id": "4dc7ef57",
   "metadata": {
    "scrolled": true
   },
   "outputs": [],
   "source": [
    "# SMILES from cheminfo.org and pubchem: propane reactant, pentane product, side product, solvent, HFIP, acid catalyst\n",
    "MCP_SMILES=[r'C1(/C=C2CC\\2)=CC=CC=C1', \n",
    "r'BrC(C=C1)=CC=C1/C=C2CC\\2', \n",
    "r'ClC(C=C1)=CC=C1/C=C2CC\\2', \n",
    "r'FC(C=C1)=CC=C1/C=C2CC\\2', \n",
    "r'O=[N+](C(C=C1)=CC=C1/C=C2CC\\2)[O-]',\n",
    "r'COC(C=C1)=CC=C1/C=C2CC\\2',\n",
    "r'CN(C(C=C1)=CC=C1/C=C2CC\\2)C',\n",
    "r'CC(C)C(C=C1)=CC=C1/C=C2CC\\2',\n",
    "r'C1(/C=C2CC\\2)=CC=C(C3=CC=CC=C3)C=C1',\n",
    "r'CC1=CC(/C=C2CC\\2)=CC=C1',\n",
    "r'BrC1=CC(/C=C2CC\\2)=CC=C1',\n",
    "r'CC1=CC=CC=C1/C=C2CC\\2',\n",
    "r'CC(C)C1=CC(/C=C2CC\\2)=CC=C1',\n",
    "r'FC(C(C=C1)=CC=C1/C=C2CC\\2)(F)F',\n",
    "r'CC(C=C1)=CC=C1/C=C2CC\\2']\n",
    "Catalyst_SMILES=['CC1=CC=C(S(O)(=O)=O)C=C1',\n",
    "'O=S(C1=CC=CC=C1)(O)=O',\n",
    "'CS(=O)(O)=O',\n",
    "'[H]Cl',\n",
    "'F[B-](F)(F)F.[H+]',\n",
    "'CC1(C)[C@]2([H])CC[C@@]1(CS(O)(=O)=O)C(C2)=O',\n",
    "'OC1=C(F)C(F)=C(F)C(F)=C1F','O=S(O)(C(F)(F)F)=O',\n",
    "'[H]Br','F[P-](F)(F)(F)(F)F.[H+]',\n",
    "'O=C(O)C(F)(F)F',\n",
    "'O=P(O)(O)O',\n",
    "'O=Cl(=O)(O)=O',\n",
    "'[H]I',\n",
    "'O=P(OC1=CC=CC=C1)(OC2=CC=CC=C2)O',\n",
    "'O=S(NS(=O)(C(F)(F)F)=O)(C(F)(F)F)=O',\n",
    "'O=S(C1=CC=CC=C1C2=CN=NC(C3=NC=C(C4=CC=CC=C4S(=O)([O-])=O)C=C3)=N2)([O-])=O.[Na+].[Na+]',\n",
    "'CCCC[N+](CCCC)(CCCC)CCCC.[O-]S(=O)(O)=O',\n",
    "'O=P(OC1=CC=C2C(C=CC=C2)=C31)(O)OC4=C3C(C=CC=C5)=C5C=C4']\n",
    "solvent_SMILES=['ClC(Cl)Cl',\n",
    "                'ClCCCl',\n",
    "                'ClCCl',\n",
    "                'CCC(C)(O)C',\n",
    "                'CC1=CC=CC=C1',\n",
    "                'CC1=CC(C)=CC(C)=C1',\n",
    "                'FC(F)(F)C1=CC=CC=C1',\n",
    "                'FC1=C(F)C(F)=C(F)C(F)=C1F',\n",
    "                'FC(F)(F)C(F)(F)C(F)(F)C(F)(F)C(F)(F)C(F)(F)F',\n",
    "                'C[N+]([O-])=O',\n",
    "                '[H]O[H]',\n",
    "                'C1CCOC1',\n",
    "                'O1CCOCC1']\n",
    "cosolvent_SMILES=['FC(F)(F)C(O)C(F)(F)F',\n",
    "                  'F/C(F)=C(F)\\F',\n",
    "                  'FC(F)(F)C(C(F)(F)F)(O)C(F)(F)F',\n",
    "                  'CC(C)(O)C',\n",
    "                  'CC(O)C']\n",
    "additives_SMILES=['O=S([O-])([O-])=O.[Na+].[Na+]',\n",
    "                  'CC(C1=CC(C)=CC(C(C)(C)C)=C1O)(C)C',\n",
    "                  '[H]O[H]','[O-][Si](=O)[O-].[O-][Si](=O)[O-].[Na+].[Al+3]',\n",
    "                  'O=C1CC[C@@]2([H])[C@]3([H])CC=C4C[C@@H](OC(C)=O)CC[C@]4(C)[C@@]3([H])CC[C@]12C',\n",
    "                  'CO','O1CCOCC1']\n",
    "# Initiate list of rdkit molecules\n",
    "rdkit_mols = [MolFromSmiles(smiles) for smiles in MCP_SMILES]"
   ]
  },
  {
   "cell_type": "markdown",
   "id": "0857cd3d",
   "metadata": {},
   "source": [
    "## Sterimol"
   ]
  },
  {
   "cell_type": "code",
   "execution_count": 5,
   "id": "6ef91528",
   "metadata": {},
   "outputs": [],
   "source": [
    "list_steri=[]\n",
    "for i in range(len(MCP_SMILES)):\n",
    "#     try:\n",
    "    mol = Chem.MolFromSmiles(MCP_SMILES[i])  \n",
    "    mol = Chem.AddHs(mol)\n",
    "    AllChem.EmbedMolecule(mol)\n",
    "    AllChem.MMFFOptimizeMolecule(mol)\n",
    "    Chem.MolToXYZFile(mol,str(i))\n",
    "\n",
    "    elements, coordinates = read_xyz(str(i))\n",
    "    sterimol = Sterimol(elements, coordinates, 1, 2)\n",
    "    B1=sterimol.B_1_value\n",
    "    B5=sterimol.B_5_value\n",
    "    bond_length=sterimol.bond_length\n",
    "    L=sterimol.L_value\n",
    "    list_steri.append([B1,B5,bond_length,L])\n",
    "#     except OSError:\n",
    "#         print('skip',i)\n",
    "#         continue"
   ]
  },
  {
   "cell_type": "code",
   "execution_count": 8,
   "id": "b4c37756",
   "metadata": {
    "scrolled": false
   },
   "outputs": [],
   "source": [
    "MCP_df=pd.DataFrame(list_steri,columns=['B1','B5','bond_length','L']).to_csv('MCP_sterimol.csv')"
   ]
  }
 ],
 "metadata": {
  "kernelspec": {
   "display_name": "Python 3 (ipykernel)",
   "language": "python",
   "name": "python3"
  },
  "language_info": {
   "codemirror_mode": {
    "name": "ipython",
    "version": 3
   },
   "file_extension": ".py",
   "mimetype": "text/x-python",
   "name": "python",
   "nbconvert_exporter": "python",
   "pygments_lexer": "ipython3",
   "version": "3.9.16"
  },
  "pycharm": {
   "stem_cell": {
    "cell_type": "raw",
    "metadata": {
     "collapsed": false
    },
    "source": []
   }
  }
 },
 "nbformat": 4,
 "nbformat_minor": 5
}
