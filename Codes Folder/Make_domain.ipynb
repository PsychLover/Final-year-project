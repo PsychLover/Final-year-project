{
 "cells": [
  {
   "cell_type": "markdown",
   "id": "4e9a377e",
   "metadata": {},
   "source": [
    "## ASSUMPTION\n",
    "This example is written assuming we have a service up and running for us to utilise"
   ]
  },
  {
   "cell_type": "markdown",
   "id": "e2a9e1f9",
   "metadata": {},
   "source": [
    "Copyright IBM Corp. 2022, 2023\n",
    "@author James Strudwick IBM Research"
   ]
  },
  {
   "cell_type": "markdown",
   "id": "85c6ce0a",
   "metadata": {},
   "source": [
    "## Dependencies"
   ]
  },
  {
   "cell_type": "code",
   "execution_count": 1,
   "id": "4ccbc3f7",
   "metadata": {
    "scrolled": false
   },
   "outputs": [],
   "source": [
    "#For descriptors\n",
    "import pandas as pd\n",
    "import numpy as np\n",
    "from rdkit.Chem import AllChem, Descriptors, MolFromSmiles\n",
    "from mordred import Calculator, descriptors, error"
   ]
  },
  {
   "cell_type": "code",
   "execution_count": 2,
   "id": "44a1a1d8",
   "metadata": {},
   "outputs": [],
   "source": [
    "#For PCA\n",
    "# from sklearn.datasets import load_iris\n",
    "from sklearn.decomposition import PCA\n",
    "import pandas as pd\n",
    "from sklearn.preprocessing import StandardScaler\n",
    "import numpy as np\n",
    "from matplotlib import pyplot as plt"
   ]
  },
  {
   "cell_type": "code",
   "execution_count": 3,
   "id": "c948b976",
   "metadata": {},
   "outputs": [],
   "source": [
    "#For loading data\n",
    "import pandas as pd\n",
    "import numpy as np\n",
    "# from io import StringIO"
   ]
  },
  {
   "cell_type": "markdown",
   "id": "d738a952",
   "metadata": {},
   "source": [
    "## Data recording"
   ]
  },
  {
   "cell_type": "code",
   "execution_count": 4,
   "id": "4dc7ef57",
   "metadata": {
    "scrolled": true
   },
   "outputs": [],
   "source": [
    "# SMILES from cheminfo.org and pubchem: propane reactant, pentane product, side product, solvent, HFIP, acid catalyst\n",
    "\n",
    "MCP_SMILES=[r'C1(/C=C2CC\\2)=CC=CC=C1', \n",
    "r'BrC(C=C1)=CC=C1/C=C2CC\\2', \n",
    "r'ClC(C=C1)=CC=C1/C=C2CC\\2', \n",
    "r'FC(C=C1)=CC=C1/C=C2CC\\2', \n",
    "r'O=[N+](C(C=C1)=CC=C1/C=C2CC\\2)[O-]',\n",
    "r'COC(C=C1)=CC=C1/C=C2CC\\2',\n",
    "r'CN(C(C=C1)=CC=C1/C=C2CC\\2)C',\n",
    "r'CC(C)C(C=C1)=CC=C1/C=C2CC\\2',\n",
    "r'C1(/C=C2CC\\2)=CC=C(C3=CC=CC=C3)C=C1',\n",
    "r'CC1=CC(/C=C2CC\\2)=CC=C1',\n",
    "r'BrC1=CC(/C=C2CC\\2)=CC=C1',\n",
    "r'CC(C)C1=CC(/C=C2CC\\2)=CC=C1',\n",
    "r'FC(C(C=C1)=CC=C1/C=C2CC\\2)(F)F',\n",
    "r'CC(C=C1)=CC=C1/C=C2CC\\2']#2-CH3'CC1=CC=CC=C1/C=C2CC\\2' deleted due to no Hammett Const\n",
    "Dimer_SMILES='c4ccc(C2=C(C1CC1)CCC2c3ccccc3)cc4'\n",
    "byproduct1_SMILES='c4ccc(C3=C(c1ccccc1)C(C2CC2)CC3)cc4'\n",
    "HFIP_SMILES='OC(C(F)(F)F)C(F)(F)F'\n",
    "RATIO=1/2\n",
    "Catalyst_SMILES=['CC1=CC=C(S(O)(=O)=O)C=C1',\n",
    "'O=S(C1=CC=CC=C1)(O)=O',\n",
    "'CS(=O)(O)=O',\n",
    "'[H]Cl',\n",
    "'F[B-](F)(F)F.[H+]',\n",
    "'CC1(C)[C@]2([H])CC[C@@]1(CS(O)(=O)=O)C(C2)=O',\n",
    "'OC1=C(F)C(F)=C(F)C(F)=C1F','O=S(O)(C(F)(F)F)=O',\n",
    "'[H]Br','F[P-](F)(F)(F)(F)F.[H+]',\n",
    "'O=C(O)C(F)(F)F',\n",
    "'O=P(O)(O)O',\n",
    "'O=Cl(=O)(O)=O',\n",
    "'[H]I',\n",
    "'O=P(OC1=CC=CC=C1)(OC2=CC=CC=C2)O',\n",
    "'O=S(NS(=O)(C(F)(F)F)=O)(C(F)(F)F)=O',\n",
    "'O=S(C1=CC=CC=C1C2=CN=NC(C3=NC=C(C4=CC=CC=C4S(=O)([O-])=O)C=C3)=N2)([O-])=O.[Na+].[Na+]',\n",
    "'CCCC[N+](CCCC)(CCCC)CCCC.[O-]S(=O)(O)=O',\n",
    "'O=P(OC1=CC=C2C(C=CC=C2)=C31)(O)OC4=C3C(C=CC=C5)=C5C=C4']\n",
    "solvent_SMILES=['ClC(Cl)Cl',\n",
    "                'ClCCCl',\n",
    "                'ClCCl',\n",
    "                'CCC(C)(O)C',\n",
    "                'CC1=CC=CC=C1',\n",
    "                'CC1=CC(C)=CC(C)=C1',\n",
    "                'FC(F)(F)C1=CC=CC=C1',\n",
    "                'FC1=C(F)C(F)=C(F)C(F)=C1F',\n",
    "                'FC(F)(F)C(F)(F)C(F)(F)C(F)(F)C(F)(F)C(F)(F)F',\n",
    "                'C[N+]([O-])=O',\n",
    "                '[H]O[H]',\n",
    "                'C1CCOC1',\n",
    "                'O1CCOCC1']\n",
    "cosolvent_SMILES=['FC(F)(F)C(O)C(F)(F)F',\n",
    "                  r'F/C(F)=C(F)\\F',\n",
    "                  'FC(F)(F)C(C(F)(F)F)(O)C(F)(F)F',\n",
    "                  'CC(C)(O)C',\n",
    "                  'CC(O)C']\n",
    "additives_SMILES=['O=S([O-])([O-])=O.[Na+].[Na+]',\n",
    "                  'CC(C1=CC(C)=CC(C(C)(C)C)=C1O)(C)C',\n",
    "                  '[H]O[H]','[O-][Si](=O)[O-].[O-][Si](=O)[O-].[Na+].[Al+3]',\n",
    "                  'O=C1CC[C@@]2([H])[C@]3([H])CC=C4C[C@@H](OC(C)=O)CC[C@]4(C)[C@@]3([H])CC[C@]12C',\n",
    "                  'CO','O1CCOCC1']\n",
    "# Initiate list of rdkit or mordred molecules\n",
    "rdkit_mols = [MolFromSmiles(smiles) for smiles in MCP_SMILES]"
   ]
  },
  {
   "cell_type": "code",
   "execution_count": 5,
   "id": "7cf67ce5",
   "metadata": {},
   "outputs": [],
   "source": [
    "MCP_SMILES_dic={\n",
    "    'parent Ph-MCP':r'C1(/C=C2CC\\2)=CC=CC=C1', \n",
    "    '4-Br-Ph-MCP':r'BrC(C=C1)=CC=C1/C=C2CC\\2', \n",
    "    '4-Cl-Ph-MCP':r'ClC(C=C1)=CC=C1/C=C2CC\\2', \n",
    "    '4-F-Ph-MCP':r'FC(C=C1)=CC=C1/C=C2CC\\2', \n",
    "    '4-nitro-Ph-MCP':r'O=[N+](C(C=C1)=CC=C1/C=C2CC\\2)[O-]',\n",
    "    '4-MeO-Ph-MCP':r'COC(C=C1)=CC=C1/C=C2CC\\2',\n",
    "    '4-Me2N-Ph-MCP':r'CN(C(C=C1)=CC=C1/C=C2CC\\2)C',\n",
    "    '4-iPr-Ph-MCP':r'CC(C)C(C=C1)=CC=C1/C=C2CC\\2',\n",
    "    '4-Ph-Ph-MCP':r'C1(/C=C2CC\\2)=CC=C(C3=CC=CC=C3)C=C1',\n",
    "    '3-CH3-Ph-MCP':r'CC1=CC(/C=C2CC\\2)=CC=C1',\n",
    "    '3-Br-Ph-MCP':r'BrC1=CC(/C=C2CC\\2)=CC=C1',\n",
    "#     '2-CH3-Ph-MCP':r'CC1=CC=CC=C1/C=C2CC\\2',\n",
    "    '3-iPr-Ph-MCP':r'CC(C)C1=CC(/C=C2CC\\2)=CC=C1',\n",
    "    '4-CF3-Ph-MCP':r'FC(C(C=C1)=CC=C1/C=C2CC\\2)(F)F',\n",
    "    '4-CH3-Ph-MCP':'CC(C=C1)=CC=C1/C=C2CC\\2'}"
   ]
  },
  {
   "cell_type": "code",
   "execution_count": 6,
   "id": "a704069d",
   "metadata": {},
   "outputs": [],
   "source": [
    "# pd.DataFrame(MCP_SMILES_dic.items()).to_csv('derivatives name.csv')"
   ]
  },
  {
   "cell_type": "code",
   "execution_count": 7,
   "id": "7b10aae2",
   "metadata": {},
   "outputs": [],
   "source": [
    "solvent_SMILES_dic={\n",
    "    'chloroform':'ClC(Cl)Cl',\n",
    "                '1,2-dichloroethane':'ClCCCl',\n",
    "                'dichloromethane':'ClCCl',\n",
    "                'tert-amyl alcohol':'CCC(C)(O)C',\n",
    "                'toluene':'CC1=CC=CC=C1',\n",
    "                'mesitylene':'CC1=CC(C)=CC(C)=C1',\n",
    "                'α,α,α-trifluorotoluene':'FC(F)(F)C1=CC=CC=C1',\n",
    "                'hexafluorobenzene':'FC1=C(F)C(F)=C(F)C(F)=C1F',\n",
    "                'perfluorohexane':'FC(F)(F)C(F)(F)C(F)(F)C(F)(F)C(F)(F)C(F)(F)F',\n",
    "                'nitromethane':'C[N+]([O-])=O',\n",
    "                'water':'[H]O[H]',\n",
    "                'THF':'C1CCOC1',\n",
    "                '1,4-dioxane':'O1CCOCC1'}"
   ]
  },
  {
   "cell_type": "code",
   "execution_count": 8,
   "id": "1136ceb4",
   "metadata": {},
   "outputs": [],
   "source": [
    "Catalyst_SMILES_dic={\n",
    "    'ptsa': 'CC1=CC=C(S(O)(=O)=O)C=C1',\n",
    "    'benzenesulfonic acid': 'O=S(C1=CC=CC=C1)(O)=O',\n",
    "                  'MsOH':'CS(=O)(O)=O',\n",
    "                  'HCl':'[H]Cl',\n",
    "                  'HBF4':'F[B-](F)(F)F.[H+]',\n",
    "                  'camphorsulfonic acid':'CC1(C)[C@]2([H])CC[C@@]1(CS(O)(=O)=O)C(C2)=O',\n",
    "                  'pentafluorophenol':'OC1=C(F)C(F)=C(F)C(F)=C1F',\n",
    "    'TfOH':'O=S(O)(C(F)(F)F)=O',\n",
    "                  'HBr':'[H]Br',\n",
    "    'HPF6':'F[P-](F)(F)(F)(F)F.[H+]',\n",
    "                  'TFA':'O=C(O)C(F)(F)F',\n",
    "                  'H3PO4':'O=P(O)(O)O',\n",
    "                  'HClO4':'O=Cl(=O)(O)=O',\n",
    "                  'HI':'[H]I',\n",
    "                  'diphenyl hydrogen phosphate':'O=P(OC1=CC=CC=C1)(OC2=CC=CC=C2)O',\n",
    "                  'HNTf2':'O=S(NS(=O)(C(F)(F)F)=O)(C(F)(F)F)=O',\n",
    "                  'Pyridinium p-toluene sulfonate':'O=S(C1=CC=CC=C1C2=CN=NC(C3=NC=C(C4=CC=CC=C4S(=O)([O-])=O)C=C3)=N2)([O-])=O.[Na+].[Na+]',\n",
    "                  'tetrabutylammonium hydrogensulfate':'CCCC[N+](CCCC)(CCCC)CCCC.[O-]S(=O)(O)=O',\n",
    "                  'chiral BINOL phosphoric acid':'O=P(OC1=CC=C2C(C=CC=C2)=C31)(O)OC4=C3C(C=CC=C5)=C5C=C4'}"
   ]
  },
  {
   "cell_type": "code",
   "execution_count": 9,
   "id": "11b344ec",
   "metadata": {},
   "outputs": [],
   "source": [
    "cosolvent_SMILES_dic={'HFIP':'FC(F)(F)C(O)C(F)(F)F',\n",
    "    'TFE':'F/C(F)=C(F)\\F',\n",
    "                  'nonafluoro-tert-butyl alcohol':'FC(F)(F)C(C(F)(F)F)(O)C(F)(F)F',\n",
    "                  'tert-butanol':'CC(C)(O)C',\n",
    "                  'iso-propanol':'CC(O)C'}"
   ]
  },
  {
   "cell_type": "code",
   "execution_count": 10,
   "id": "73e625cf",
   "metadata": {},
   "outputs": [],
   "source": [
    "additives_SMILES_dic={'sodium sulfate':'O=S([O-])([O-])=O.[Na+].[Na+]',\n",
    "                  'molecular sieves':'[O-][Si](=O)[O-].[O-][Si](=O)[O-].[Na+].[Al+3]',\n",
    "                  'DHA':'CC(C1=CC(C)=CC(C(C)(C)C)=C1O)(C)C',\n",
    "                  'water':'[H]O[H]',\n",
    "                  'BHT':'O=C1CC[C@@]2([H])[C@]3([H])CC=C4C[C@@H](OC(C)=O)CC[C@]4(C)[C@@]3([H])CC[C@]12C',\n",
    "                  'methanol':'CO',\n",
    "                  'dioxane':'O1CCOCC1'}"
   ]
  },
  {
   "cell_type": "code",
   "execution_count": 11,
   "id": "330eb832",
   "metadata": {
    "scrolled": true
   },
   "outputs": [],
   "source": [
    "# exp_columns[0]"
   ]
  },
  {
   "cell_type": "code",
   "execution_count": 13,
   "id": "48525f68",
   "metadata": {},
   "outputs": [],
   "source": [
    "import itertools"
   ]
  },
  {
   "cell_type": "code",
   "execution_count": 14,
   "id": "40097581",
   "metadata": {},
   "outputs": [],
   "source": [
    "MCPs=pd.read_csv('df_MCPs_pca_mordred_sterimol.csv').drop(['Name'],axis=1).to_numpy()\n",
    "catalysts=pd.read_csv('df_catalyst_pca_mordred_sterimol.csv').drop('Name',axis=1).to_numpy()\n",
    "cosolvents=pd.read_csv('df_cosolvent_pca_mordred_sterimol.csv').drop('Name',axis=1).to_numpy()\n",
    "solvents=pd.read_csv('df_solvent_pca_mordred_sterimol.csv').drop('Name',axis=1).to_numpy()\n",
    "# ratio=[0 , 0.1, 0.2, 0.3, 0.4, 0.5, 0.6, 0.7, 0.8, 0.9]\n",
    "# ratio=[0.1, 0.2, 0.3, 0.4, 0.5, 0.6, 0.7, 0.8, 0.9]\n",
    "ratio=[0.5]\n",
    "# temperature=[10,21,50]\n",
    "temperature=[21]\n",
    "additive_dim1=[0]\n",
    "additive_dim2=[0]\n",
    "cat_loading=[0.5,1,2,10,25,50,110]\n",
    "# time=[0.5,1,2,4,8,24]\n",
    "time=[2]\n",
    "# Generate all possible combinations\n",
    "combinations = list(itertools.product(MCPs,catalysts, solvents, cosolvents, additive_dim1, additive_dim2, ratio, temperature, cat_loading, time))"
   ]
  },
  {
   "cell_type": "code",
   "execution_count": 15,
   "id": "823b9267",
   "metadata": {},
   "outputs": [],
   "source": [
    "import csv\n",
    "# Define the CSV file name\n",
    "csv_file = 'domain_derivatives_no_const_and_energy_2hrs_rtm_0additives_0.5ratio_first_half.csv'\n",
    "with open(csv_file, 'w', newline='') as file:\n",
    "    writer = csv.writer(file)\n",
    "    writer.writerow(['MCP dim1',\n",
    "                     'MCP dim2',\n",
    "                     'Catalyst dim1', \n",
    "                     'Catalyst dim2', \n",
    "                     'Solvent dim1', \n",
    "                     'Solvent dim2', \n",
    "                     'Cosolvent dim1', \n",
    "                     'Cosolvent dim2', \n",
    "                     'additive dim1',\n",
    "                     'additive dim2',\n",
    "                     'cosolvent vs solvent ratio',\n",
    "                     'temp in degree celsius', \n",
    "                     'cat. loading mol%',\n",
    "                     'time in hours'])  # Write the header\n",
    "    for combination in combinations[0:int(len(combinations)/2)]:\n",
    "        MCP, Catalyst, Solvent, Cosolvent, additive_dim1, additive_dim2, ratio, temperature, cat_loading, time  = combination\n",
    "        MCP_dim1, MCP_dim2 = MCP\n",
    "        Catalyst_dim1, Catalyst_dim2 = Catalyst\n",
    "        solvent_dim1, solvent_dim2 = Solvent\n",
    "        Cosolvent_dim1, Cosolvent_dim2 = Cosolvent\n",
    "        writer.writerow([MCP_dim1, \n",
    "                         MCP_dim2,\n",
    "                         Catalyst_dim1, \n",
    "                         Catalyst_dim2, \n",
    "                         solvent_dim1, \n",
    "                         solvent_dim2, \n",
    "                         Cosolvent_dim1, \n",
    "                         Cosolvent_dim2, \n",
    "                         additive_dim1,\n",
    "                         additive_dim2,\n",
    "                         ratio,\n",
    "                         temperature, \n",
    "                         cat_loading, \n",
    "                         time])\n"
   ]
  }
 ],
 "metadata": {
  "kernelspec": {
   "display_name": "Python 3 (ipykernel)",
   "language": "python",
   "name": "python3"
  },
  "language_info": {
   "codemirror_mode": {
    "name": "ipython",
    "version": 3
   },
   "file_extension": ".py",
   "mimetype": "text/x-python",
   "name": "python",
   "nbconvert_exporter": "python",
   "pygments_lexer": "ipython3",
   "version": "3.9.16"
  },
  "pycharm": {
   "stem_cell": {
    "cell_type": "raw",
    "metadata": {
     "collapsed": false
    },
    "source": []
   }
  }
 },
 "nbformat": 4,
 "nbformat_minor": 5
}
